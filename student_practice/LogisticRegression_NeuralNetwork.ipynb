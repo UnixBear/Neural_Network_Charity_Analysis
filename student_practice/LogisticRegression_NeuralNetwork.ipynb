{
  "nbformat": 4,
  "nbformat_minor": 0,
  "metadata": {
    "colab": {
      "provenance": [],
      "collapsed_sections": []
    },
    "kernelspec": {
      "name": "python3",
      "display_name": "Python 3"
    },
    "language_info": {
      "name": "python"
    }
  },
  "cells": [
    {
      "cell_type": "markdown",
      "source": [
        "A logistic regression model is a classification algorithm that can analyze continuous and categorical variables. Using a combination of input variables, logistic regression predicts the probability of the input data belonging to one of two groups. If the probability is above a predetermined cutoff, the sample is assigned to the first group, otherwise it is assigned to the second. For example, using an applicant's personal information (such as age and income), logistic regression could be used by a bank to determine if a person does or does not qualify for a credit card. At the heart of the logistic regression model is the sigmoid curve, which is used to produce the probability (between 0 and 1) of the input data belonging to the first group. This sigmoid curve is the exact same curve used in the sigmoid activation function of a neural network. In fact, a basic neural network using the sigmoid activation function is **effectively** a logistic regression model. To demonstrate how similar the logistic regression and basic neural network models are in terms of performance, we'll build and evaluate both models using the same training/testing dataset, which will be a [diabetes dataset](https://2u-data-curriculum-team.s3.amazonaws.com/dataviz-online/module_19/diabetes.csv). This dataset is from the National Institute of Diabetes and Digestive and Kidney Diseases (NIDDK) and contains the patient information of 786 women. Since there are only 786 data points across eight features, this dataset is well suited for a logistic regression model, but still large enough to build a neural network model. Once we have created our notebook and placed the dataset into the corresponding folder, we'll start by importing our libraries and reading in the dataset. "
      ],
      "metadata": {
        "id": "PFLyGaRBM-8r"
      }
    },
    {
      "cell_type": "code",
      "execution_count": 1,
      "metadata": {
        "colab": {
          "base_uri": "https://localhost:8080/",
          "height": 206
        },
        "id": "nzBTjAfuJKiw",
        "outputId": "be67e84d-e56a-47c7-a5ae-22d2b08a619a"
      },
      "outputs": [
        {
          "output_type": "execute_result",
          "data": {
            "text/plain": [
              "   Pregnancies  Glucose  BloodPressure  SkinThickness  Insulin   BMI  \\\n",
              "0            6      148             72             35        0  33.6   \n",
              "1            1       85             66             29        0  26.6   \n",
              "2            8      183             64              0        0  23.3   \n",
              "3            1       89             66             23       94  28.1   \n",
              "4            0      137             40             35      168  43.1   \n",
              "\n",
              "   DiabetesPedigreeFunction  Age  Outcome  \n",
              "0                     0.627   50        1  \n",
              "1                     0.351   31        0  \n",
              "2                     0.672   32        1  \n",
              "3                     0.167   21        0  \n",
              "4                     2.288   33        1  "
            ],
            "text/html": [
              "\n",
              "  <div id=\"df-cef98fe0-9e36-4f2e-8d57-528b7f4bcf50\">\n",
              "    <div class=\"colab-df-container\">\n",
              "      <div>\n",
              "<style scoped>\n",
              "    .dataframe tbody tr th:only-of-type {\n",
              "        vertical-align: middle;\n",
              "    }\n",
              "\n",
              "    .dataframe tbody tr th {\n",
              "        vertical-align: top;\n",
              "    }\n",
              "\n",
              "    .dataframe thead th {\n",
              "        text-align: right;\n",
              "    }\n",
              "</style>\n",
              "<table border=\"1\" class=\"dataframe\">\n",
              "  <thead>\n",
              "    <tr style=\"text-align: right;\">\n",
              "      <th></th>\n",
              "      <th>Pregnancies</th>\n",
              "      <th>Glucose</th>\n",
              "      <th>BloodPressure</th>\n",
              "      <th>SkinThickness</th>\n",
              "      <th>Insulin</th>\n",
              "      <th>BMI</th>\n",
              "      <th>DiabetesPedigreeFunction</th>\n",
              "      <th>Age</th>\n",
              "      <th>Outcome</th>\n",
              "    </tr>\n",
              "  </thead>\n",
              "  <tbody>\n",
              "    <tr>\n",
              "      <th>0</th>\n",
              "      <td>6</td>\n",
              "      <td>148</td>\n",
              "      <td>72</td>\n",
              "      <td>35</td>\n",
              "      <td>0</td>\n",
              "      <td>33.6</td>\n",
              "      <td>0.627</td>\n",
              "      <td>50</td>\n",
              "      <td>1</td>\n",
              "    </tr>\n",
              "    <tr>\n",
              "      <th>1</th>\n",
              "      <td>1</td>\n",
              "      <td>85</td>\n",
              "      <td>66</td>\n",
              "      <td>29</td>\n",
              "      <td>0</td>\n",
              "      <td>26.6</td>\n",
              "      <td>0.351</td>\n",
              "      <td>31</td>\n",
              "      <td>0</td>\n",
              "    </tr>\n",
              "    <tr>\n",
              "      <th>2</th>\n",
              "      <td>8</td>\n",
              "      <td>183</td>\n",
              "      <td>64</td>\n",
              "      <td>0</td>\n",
              "      <td>0</td>\n",
              "      <td>23.3</td>\n",
              "      <td>0.672</td>\n",
              "      <td>32</td>\n",
              "      <td>1</td>\n",
              "    </tr>\n",
              "    <tr>\n",
              "      <th>3</th>\n",
              "      <td>1</td>\n",
              "      <td>89</td>\n",
              "      <td>66</td>\n",
              "      <td>23</td>\n",
              "      <td>94</td>\n",
              "      <td>28.1</td>\n",
              "      <td>0.167</td>\n",
              "      <td>21</td>\n",
              "      <td>0</td>\n",
              "    </tr>\n",
              "    <tr>\n",
              "      <th>4</th>\n",
              "      <td>0</td>\n",
              "      <td>137</td>\n",
              "      <td>40</td>\n",
              "      <td>35</td>\n",
              "      <td>168</td>\n",
              "      <td>43.1</td>\n",
              "      <td>2.288</td>\n",
              "      <td>33</td>\n",
              "      <td>1</td>\n",
              "    </tr>\n",
              "  </tbody>\n",
              "</table>\n",
              "</div>\n",
              "      <button class=\"colab-df-convert\" onclick=\"convertToInteractive('df-cef98fe0-9e36-4f2e-8d57-528b7f4bcf50')\"\n",
              "              title=\"Convert this dataframe to an interactive table.\"\n",
              "              style=\"display:none;\">\n",
              "        \n",
              "  <svg xmlns=\"http://www.w3.org/2000/svg\" height=\"24px\"viewBox=\"0 0 24 24\"\n",
              "       width=\"24px\">\n",
              "    <path d=\"M0 0h24v24H0V0z\" fill=\"none\"/>\n",
              "    <path d=\"M18.56 5.44l.94 2.06.94-2.06 2.06-.94-2.06-.94-.94-2.06-.94 2.06-2.06.94zm-11 1L8.5 8.5l.94-2.06 2.06-.94-2.06-.94L8.5 2.5l-.94 2.06-2.06.94zm10 10l.94 2.06.94-2.06 2.06-.94-2.06-.94-.94-2.06-.94 2.06-2.06.94z\"/><path d=\"M17.41 7.96l-1.37-1.37c-.4-.4-.92-.59-1.43-.59-.52 0-1.04.2-1.43.59L10.3 9.45l-7.72 7.72c-.78.78-.78 2.05 0 2.83L4 21.41c.39.39.9.59 1.41.59.51 0 1.02-.2 1.41-.59l7.78-7.78 2.81-2.81c.8-.78.8-2.07 0-2.86zM5.41 20L4 18.59l7.72-7.72 1.47 1.35L5.41 20z\"/>\n",
              "  </svg>\n",
              "      </button>\n",
              "      \n",
              "  <style>\n",
              "    .colab-df-container {\n",
              "      display:flex;\n",
              "      flex-wrap:wrap;\n",
              "      gap: 12px;\n",
              "    }\n",
              "\n",
              "    .colab-df-convert {\n",
              "      background-color: #E8F0FE;\n",
              "      border: none;\n",
              "      border-radius: 50%;\n",
              "      cursor: pointer;\n",
              "      display: none;\n",
              "      fill: #1967D2;\n",
              "      height: 32px;\n",
              "      padding: 0 0 0 0;\n",
              "      width: 32px;\n",
              "    }\n",
              "\n",
              "    .colab-df-convert:hover {\n",
              "      background-color: #E2EBFA;\n",
              "      box-shadow: 0px 1px 2px rgba(60, 64, 67, 0.3), 0px 1px 3px 1px rgba(60, 64, 67, 0.15);\n",
              "      fill: #174EA6;\n",
              "    }\n",
              "\n",
              "    [theme=dark] .colab-df-convert {\n",
              "      background-color: #3B4455;\n",
              "      fill: #D2E3FC;\n",
              "    }\n",
              "\n",
              "    [theme=dark] .colab-df-convert:hover {\n",
              "      background-color: #434B5C;\n",
              "      box-shadow: 0px 1px 3px 1px rgba(0, 0, 0, 0.15);\n",
              "      filter: drop-shadow(0px 1px 2px rgba(0, 0, 0, 0.3));\n",
              "      fill: #FFFFFF;\n",
              "    }\n",
              "  </style>\n",
              "\n",
              "      <script>\n",
              "        const buttonEl =\n",
              "          document.querySelector('#df-cef98fe0-9e36-4f2e-8d57-528b7f4bcf50 button.colab-df-convert');\n",
              "        buttonEl.style.display =\n",
              "          google.colab.kernel.accessAllowed ? 'block' : 'none';\n",
              "\n",
              "        async function convertToInteractive(key) {\n",
              "          const element = document.querySelector('#df-cef98fe0-9e36-4f2e-8d57-528b7f4bcf50');\n",
              "          const dataTable =\n",
              "            await google.colab.kernel.invokeFunction('convertToInteractive',\n",
              "                                                     [key], {});\n",
              "          if (!dataTable) return;\n",
              "\n",
              "          const docLinkHtml = 'Like what you see? Visit the ' +\n",
              "            '<a target=\"_blank\" href=https://colab.research.google.com/notebooks/data_table.ipynb>data table notebook</a>'\n",
              "            + ' to learn more about interactive tables.';\n",
              "          element.innerHTML = '';\n",
              "          dataTable['output_type'] = 'display_data';\n",
              "          await google.colab.output.renderOutput(dataTable, element);\n",
              "          const docLink = document.createElement('div');\n",
              "          docLink.innerHTML = docLinkHtml;\n",
              "          element.appendChild(docLink);\n",
              "        }\n",
              "      </script>\n",
              "    </div>\n",
              "  </div>\n",
              "  "
            ]
          },
          "metadata": {},
          "execution_count": 1
        }
      ],
      "source": [
        "#dependencies\n",
        "from sklearn.model_selection import train_test_split\n",
        "from sklearn.preprocessing import StandardScaler\n",
        "from sklearn.linear_model import LogisticRegression\n",
        "from sklearn.metrics import accuracy_score\n",
        "import pandas as pd\n",
        "import tensorflow as tf\n",
        "\n",
        "#data\n",
        "diabetesDF=pd.read_csv(\"https://2u-data-curriculum-team.s3.amazonaws.com/dataviz-online/module_19/diabetes.csv\")\n",
        "diabetesDF.head()"
      ]
    },
    {
      "cell_type": "markdown",
      "source": [
        "Now that we have our dataset loaded into Pandas, we need to prepare the data to train both models. With our logistic regression model, there is no preprocessing or scaling required for the data. However, our basic neural network needs the numerical variables standardized. Therefore, we'll need to keep track of a scaled and unscaled training dataset such that both models have the correct input data in their preferred formats. "
      ],
      "metadata": {
        "id": "pHmG3N-TOU1z"
      }
    },
    {
      "cell_type": "code",
      "source": [
        "#remove diabetes outcome from features data\n",
        "X = diabetesDF.drop(columns=\"Outcome\")\n",
        "y=diabetesDF.Outcome\n",
        "\n",
        "#split \n",
        "X_train, X_test, y_train, y_test = train_test_split(X,y, random_state=42, stratify=y)"
      ],
      "metadata": {
        "id": "DQa6-F2BOIs0"
      },
      "execution_count": 2,
      "outputs": []
    },
    {
      "cell_type": "markdown",
      "source": [
        "We need to standardize the numerical variables using Scikit-learn's `StandardScaler` class."
      ],
      "metadata": {
        "id": "qBcDB6_uP0pJ"
      }
    },
    {
      "cell_type": "code",
      "source": [
        "# Preprocess numerical data for neural network\n",
        "\n",
        "# Create a StandardScaler instance\n",
        "scaler = StandardScaler()\n",
        "\n",
        "# Fit the StandardScaler\n",
        "X_scaler = scaler.fit(X_train)\n",
        "\n",
        "# Scale the data\n",
        "X_train_scaled = X_scaler.transform(X_train)\n",
        "X_test_scaled = X_scaler.transform(X_test)\n"
      ],
      "metadata": {
        "id": "uYx9wMB4PrkU"
      },
      "execution_count": 3,
      "outputs": []
    },
    {
      "cell_type": "markdown",
      "source": [
        "Now we've finished our preprocessing of the data, we can start making models to evaluate. Let's start with a logistic regression. For our purposes, we'll use our basic logistic regression parameters, which include:\n",
        "\n",
        "- The `solver` parameter is set to `'lbfgs'`, which is an algorithm for learning and optimization. The particular solver isn't very important in this example, but note that a number of optimizers exist.\n",
        "- The `max_iter` parameter will be set to 200 iterations, which will give the model sufficient opportunity to converge on effective weights\n"
      ],
      "metadata": {
        "id": "CJ3QKuqeQw1h"
      }
    },
    {
      "cell_type": "code",
      "source": [
        "# Define the logistic regression model\n",
        "log_classifier = LogisticRegression(solver=\"lbfgs\", max_iter=200)\n",
        "\n",
        "# Train the model\n",
        "log_classifier.fit(X_train, y_train)\n",
        "\n",
        "# Evaluate the model\n",
        "y_pred = log_classifier.predict(X_test)\n",
        "print(f\" Logistic regression model accuracy: {accuracy_score(y_test,y_pred):.3f}\")"
      ],
      "metadata": {
        "colab": {
          "base_uri": "https://localhost:8080/"
        },
        "id": "ufnK2TNaQwQS",
        "outputId": "b8d535a3-e3bb-4e12-8e2b-dc7fe911db13"
      },
      "execution_count": 4,
      "outputs": [
        {
          "output_type": "stream",
          "name": "stdout",
          "text": [
            " Logistic regression model accuracy: 0.729\n"
          ]
        }
      ]
    },
    {
      "cell_type": "markdown",
      "source": [
        "Next, we need to build, compile, and evaluate our basic neural network model. Again, we'll use our typical binary classifier parameters:\n",
        "\n",
        "- Our single hidden layer will have an `input_dim` equal to 8, 16 neuron `units`, and will use the `relu` activation function.\n",
        "- The loss function should be `binary_crossentropy`, using the `adam` optimizer.\n",
        "- Our model should provide the additional `accuracy` scoring metric and train over a maximum of 50 epochs.\n"
      ],
      "metadata": {
        "id": "N7O9_W8oRWz1"
      }
    },
    {
      "cell_type": "code",
      "source": [
        "# Define the basic neural network model\n",
        "neuralModel = tf.keras.models.Sequential()\n",
        "neuralModel.add(\n",
        "    tf.keras.layers.Dense(units=16, activation=\"relu\", input_dim=8)\n",
        ")\n",
        "neuralModel.add(\n",
        "    tf.keras.layers.Dense(units=1, activation=\"sigmoid\")\n",
        ")\n",
        "# Compile the Sequential model together and customize metrics\n",
        "neuralModel.compile(loss=\"binary_crossentropy\", optimizer=\"adam\", metrics=[\"accuracy\"])\n",
        "\n",
        "# Train the model\n",
        "fitModel = neuralModel.fit(X_train_scaled, y_train, epochs=50)\n",
        "\n",
        "# Evaluate the model using the test data\n",
        "model_loss, model_accuracy = neuralModel.evaluate(X_test_scaled,y_test,verbose=2)\n",
        "print(f\"Loss: {model_loss}, Accuracy: {model_accuracy}\")"
      ],
      "metadata": {
        "colab": {
          "base_uri": "https://localhost:8080/"
        },
        "id": "axsJFAS6QU_Q",
        "outputId": "dfa6a86f-523a-4417-f56f-0029a0801455"
      },
      "execution_count": 9,
      "outputs": [
        {
          "output_type": "stream",
          "name": "stdout",
          "text": [
            "Epoch 1/50\n",
            "18/18 [==============================] - 0s 2ms/step - loss: 0.7088 - accuracy: 0.4983\n",
            "Epoch 2/50\n",
            "18/18 [==============================] - 0s 2ms/step - loss: 0.6591 - accuracy: 0.6354\n",
            "Epoch 3/50\n",
            "18/18 [==============================] - 0s 2ms/step - loss: 0.6160 - accuracy: 0.7274\n",
            "Epoch 4/50\n",
            "18/18 [==============================] - 0s 2ms/step - loss: 0.5780 - accuracy: 0.7413\n",
            "Epoch 5/50\n",
            "18/18 [==============================] - 0s 2ms/step - loss: 0.5472 - accuracy: 0.7569\n",
            "Epoch 6/50\n",
            "18/18 [==============================] - 0s 2ms/step - loss: 0.5228 - accuracy: 0.7691\n",
            "Epoch 7/50\n",
            "18/18 [==============================] - 0s 2ms/step - loss: 0.5070 - accuracy: 0.7760\n",
            "Epoch 8/50\n",
            "18/18 [==============================] - 0s 2ms/step - loss: 0.4940 - accuracy: 0.7830\n",
            "Epoch 9/50\n",
            "18/18 [==============================] - 0s 2ms/step - loss: 0.4855 - accuracy: 0.7795\n",
            "Epoch 10/50\n",
            "18/18 [==============================] - 0s 2ms/step - loss: 0.4796 - accuracy: 0.7812\n",
            "Epoch 11/50\n",
            "18/18 [==============================] - 0s 2ms/step - loss: 0.4748 - accuracy: 0.7847\n",
            "Epoch 12/50\n",
            "18/18 [==============================] - 0s 2ms/step - loss: 0.4714 - accuracy: 0.7830\n",
            "Epoch 13/50\n",
            "18/18 [==============================] - 0s 2ms/step - loss: 0.4669 - accuracy: 0.7778\n",
            "Epoch 14/50\n",
            "18/18 [==============================] - 0s 2ms/step - loss: 0.4639 - accuracy: 0.7726\n",
            "Epoch 15/50\n",
            "18/18 [==============================] - 0s 2ms/step - loss: 0.4626 - accuracy: 0.7778\n",
            "Epoch 16/50\n",
            "18/18 [==============================] - 0s 2ms/step - loss: 0.4588 - accuracy: 0.7847\n",
            "Epoch 17/50\n",
            "18/18 [==============================] - 0s 2ms/step - loss: 0.4568 - accuracy: 0.7882\n",
            "Epoch 18/50\n",
            "18/18 [==============================] - 0s 2ms/step - loss: 0.4544 - accuracy: 0.7917\n",
            "Epoch 19/50\n",
            "18/18 [==============================] - 0s 2ms/step - loss: 0.4523 - accuracy: 0.7882\n",
            "Epoch 20/50\n",
            "18/18 [==============================] - 0s 2ms/step - loss: 0.4503 - accuracy: 0.7882\n",
            "Epoch 21/50\n",
            "18/18 [==============================] - 0s 2ms/step - loss: 0.4483 - accuracy: 0.7917\n",
            "Epoch 22/50\n",
            "18/18 [==============================] - 0s 2ms/step - loss: 0.4471 - accuracy: 0.7882\n",
            "Epoch 23/50\n",
            "18/18 [==============================] - 0s 2ms/step - loss: 0.4456 - accuracy: 0.7917\n",
            "Epoch 24/50\n",
            "18/18 [==============================] - 0s 2ms/step - loss: 0.4435 - accuracy: 0.7899\n",
            "Epoch 25/50\n",
            "18/18 [==============================] - 0s 2ms/step - loss: 0.4422 - accuracy: 0.7882\n",
            "Epoch 26/50\n",
            "18/18 [==============================] - 0s 2ms/step - loss: 0.4403 - accuracy: 0.7882\n",
            "Epoch 27/50\n",
            "18/18 [==============================] - 0s 2ms/step - loss: 0.4390 - accuracy: 0.7899\n",
            "Epoch 28/50\n",
            "18/18 [==============================] - 0s 2ms/step - loss: 0.4375 - accuracy: 0.7899\n",
            "Epoch 29/50\n",
            "18/18 [==============================] - 0s 2ms/step - loss: 0.4362 - accuracy: 0.7917\n",
            "Epoch 30/50\n",
            "18/18 [==============================] - 0s 2ms/step - loss: 0.4347 - accuracy: 0.7951\n",
            "Epoch 31/50\n",
            "18/18 [==============================] - 0s 2ms/step - loss: 0.4333 - accuracy: 0.7934\n",
            "Epoch 32/50\n",
            "18/18 [==============================] - 0s 2ms/step - loss: 0.4320 - accuracy: 0.7934\n",
            "Epoch 33/50\n",
            "18/18 [==============================] - 0s 2ms/step - loss: 0.4308 - accuracy: 0.7934\n",
            "Epoch 34/50\n",
            "18/18 [==============================] - 0s 2ms/step - loss: 0.4299 - accuracy: 0.7951\n",
            "Epoch 35/50\n",
            "18/18 [==============================] - 0s 2ms/step - loss: 0.4294 - accuracy: 0.7951\n",
            "Epoch 36/50\n",
            "18/18 [==============================] - 0s 2ms/step - loss: 0.4275 - accuracy: 0.7986\n",
            "Epoch 37/50\n",
            "18/18 [==============================] - 0s 2ms/step - loss: 0.4269 - accuracy: 0.7969\n",
            "Epoch 38/50\n",
            "18/18 [==============================] - 0s 2ms/step - loss: 0.4257 - accuracy: 0.7969\n",
            "Epoch 39/50\n",
            "18/18 [==============================] - 0s 2ms/step - loss: 0.4250 - accuracy: 0.7934\n",
            "Epoch 40/50\n",
            "18/18 [==============================] - 0s 2ms/step - loss: 0.4235 - accuracy: 0.7969\n",
            "Epoch 41/50\n",
            "18/18 [==============================] - 0s 2ms/step - loss: 0.4226 - accuracy: 0.7986\n",
            "Epoch 42/50\n",
            "18/18 [==============================] - 0s 2ms/step - loss: 0.4221 - accuracy: 0.7986\n",
            "Epoch 43/50\n",
            "18/18 [==============================] - 0s 2ms/step - loss: 0.4203 - accuracy: 0.7986\n",
            "Epoch 44/50\n",
            "18/18 [==============================] - 0s 2ms/step - loss: 0.4193 - accuracy: 0.7969\n",
            "Epoch 45/50\n",
            "18/18 [==============================] - 0s 2ms/step - loss: 0.4184 - accuracy: 0.7969\n",
            "Epoch 46/50\n",
            "18/18 [==============================] - 0s 2ms/step - loss: 0.4179 - accuracy: 0.8021\n",
            "Epoch 47/50\n",
            "18/18 [==============================] - 0s 2ms/step - loss: 0.4163 - accuracy: 0.8038\n",
            "Epoch 48/50\n",
            "18/18 [==============================] - 0s 2ms/step - loss: 0.4154 - accuracy: 0.8021\n",
            "Epoch 49/50\n",
            "18/18 [==============================] - 0s 3ms/step - loss: 0.4145 - accuracy: 0.8003\n",
            "Epoch 50/50\n",
            "18/18 [==============================] - 0s 2ms/step - loss: 0.4142 - accuracy: 0.8038\n",
            "6/6 - 0s - loss: 0.5009 - accuracy: 0.7292 - 122ms/epoch - 20ms/step\n",
            "Loss: 0.5009482502937317, Accuracy: 0.7291666865348816\n"
          ]
        }
      ]
    },
    {
      "cell_type": "markdown",
      "source": [
        "If we compare both model's predictive accuracy, their output is very similar. Either model was able to predict whether or not a patient is diagnosed with diabetes more than 70% of the time.\n",
        "\n",
        "Beyond the performance of both models, there are a few other factors to consider when selecting a model for your data. First, neural networks are prone to overfitting and can be more difficult to train than a straightforward logistic regression model. Therefore, if you are trying to build a classifier with limited data points (typically fewer than a thousand data points), or if your dataset has only a few features, neural networks may be overcomplicated. Additionally, logistic regression models are easier to dissect and interpret than their neural network counterparts, which tends to put more traditional data scientists and non-data experts at ease. In contrast, neural networks (and especially deep neural networks) thrive in large datasets. Datasets with thousands of data points, or datasets with complex features, may overwhelm the logistic regression model, while a deep learning model can evaluate every interaction within and across neurons. Therefore, the decision between using a logistic regression model and basic neural network model is nuanced and, in most cases, a matter of preference for the data scientist."
      ],
      "metadata": {
        "id": "DoYp6d-cS9xe"
      }
    },
    {
      "cell_type": "code",
      "source": [],
      "metadata": {
        "id": "lh0UiDvTSjpN"
      },
      "execution_count": null,
      "outputs": []
    }
  ]
}