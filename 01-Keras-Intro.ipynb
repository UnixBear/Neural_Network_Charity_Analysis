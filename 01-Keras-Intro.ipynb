{
 "cells": [
  {
   "cell_type": "code",
   "execution_count": 2,
   "id": "random-vertex",
   "metadata": {},
   "outputs": [],
   "source": [
    "%config IPCompleter.greedy=True\n",
    "%matplotlib inline\n",
    "\n",
    "# Import our dependencies\n",
    "import numpy as np\n",
    "import pandas as pd\n",
    "# scikit-learn\n",
    "# https://scikit-learn.org/stable/index.html\n",
    "import sklearn as skl\n",
    "from sklearn.datasets import make_blobs\n",
    "# TensorFlow and tf.keras\n",
    "# https://www.tensorflow.org/api_docs/python/tf/keras\n",
    "import tensorflow as tf\n",
    "\n",
    "# Helper libraries\n",
    "import matplotlib.pyplot as plt"
   ]
  },
  {
   "cell_type": "code",
   "execution_count": 3,
   "id": "usual-change",
   "metadata": {},
   "outputs": [
    {
     "data": {
      "text/plain": [
       "<AxesSubplot:xlabel='Feature 1', ylabel='Feature 2'>"
      ]
     },
     "execution_count": 3,
     "metadata": {},
     "output_type": "execute_result"
    },
    {
     "data": {
      "image/png": "[encoded data removed]",
      "text/plain": [
       "<Figure size 432x288 with 2 Axes>"
      ]
     },
     "metadata": {
      "needs_background": "light"
     },
     "output_type": "display_data"
    }
   ],
   "source": [
    "# Generate dummy dataset\n",
    "X, y = make_blobs(n_samples=1000, centers=2, n_features=2, random_state=78)\n",
    "\n",
    "# Creating a DataFrame with the dummy data\n",
    "df = pd.DataFrame(X, columns=[\"Feature 1\", \"Feature 2\"])\n",
    "df[\"Target\"] = y\n",
    "\n",
    "# Plotting the dummy data\n",
    "df.plot.scatter(x=\"Feature 1\", y=\"Feature 2\", c=\"Target\", colormap=\"winter\")"
   ]
  },
  {
   "cell_type": "code",
   "execution_count": 4,
   "id": "descending-compact",
   "metadata": {},
   "outputs": [],
   "source": [
    "# Use scikit-learn to split dataset\n",
    "from sklearn.model_selection import train_test_split\n",
    "X_train, X_test, y_train, y_test = train_test_split(X, y, random_state=78)"
   ]
  },
  {
   "cell_type": "markdown",
   "id": "fabulous-assignment",
   "metadata": {},
   "source": [
    "Prepare the dataset for our neural network model. As with any machine learning algorithm, it is crucial to normalize or standardize our numerical variables to ensure that our neural network does not focus on outliers and can apply proper weights to each input. In most cases, the more that input variables are normalized to the same scale, the more stable the neural network model is, and the better the neural network model will generalize.\n",
    "\n",
    "https://www.youtube.com/watch?v=mnKm3YP56PY&t=21s"
   ]
  },
  {
   "cell_type": "code",
   "execution_count": 5,
   "id": "daily-cosmetic",
   "metadata": {},
   "outputs": [],
   "source": [
    "# Create scaler instance\n",
    "X_scaler = skl.preprocessing.StandardScaler()\n",
    "\n",
    "# Fit the scaler\n",
    "X_scaler.fit(X_train)\n",
    "\n",
    "# Scale the data\n",
    "X_train_scaled = X_scaler.transform(X_train)\n",
    "X_test_scaled = X_scaler.transform(X_test)"
   ]
  },
  {
   "cell_type": "code",
   "execution_count": 6,
   "id": "hawaiian-population",
   "metadata": {},
   "outputs": [],
   "source": [
    "# Create the Keras Sequential model\n",
    "nn_model = tf.keras.models.Sequential()"
   ]
  },
  {
   "cell_type": "code",
   "execution_count": 7,
   "id": "static-chrome",
   "metadata": {},
   "outputs": [],
   "source": [
    "# Add our first Dense layer, including the input layer\n",
    "nn_model.add(tf.keras.layers.Dense(units=1, activation=\"relu\", input_dim=2))"
   ]
  },
  {
   "cell_type": "markdown",
   "id": "precious-measurement",
   "metadata": {},
   "source": [
    "In our previous layer, we used a ReLU activation function to enable nonlinear relationships; however, for our classification output, we want to use a sigmoid activation function to produce a probability output."
   ]
  },
  {
   "cell_type": "code",
   "execution_count": 8,
   "id": "solid-comment",
   "metadata": {},
   "outputs": [],
   "source": [
    "# Add the output layer that uses a probability activation function\n",
    "nn_model.add(tf.keras.layers.Dense(units=1, activation=\"sigmoid\"))"
   ]
  },
  {
   "cell_type": "code",
   "execution_count": 9,
   "id": "statutory-electron",
   "metadata": {},
   "outputs": [
    {
     "name": "stdout",
     "output_type": "stream",
     "text": [
      "Model: \"sequential\"\n",
      "_________________________________________________________________\n",
      "Layer (type)                 Output Shape              Param #   \n",
      "=================================================================\n",
      "dense (Dense)                (None, 1)                 3         \n",
      "_________________________________________________________________\n",
      "dense_1 (Dense)              (None, 1)                 2         \n",
      "=================================================================\n",
      "Total params: 5\n",
      "Trainable params: 5\n",
      "Non-trainable params: 0\n",
      "_________________________________________________________________\n"
     ]
    }
   ],
   "source": [
    "# Check the structure of the Sequential model\n",
    "nn_model.summary()"
   ]
  },
  {
   "cell_type": "markdown",
   "id": "seven-tablet",
   "metadata": {},
   "source": [
    "The process of informing the model how it should learn and train is called compiling the model.\n",
    "\n",
    "Depending on the function of the neural network, we'll have to compile the neural network using a specific optimization function and loss metric. The optimization function shapes and molds a neural network model while it is being trained to ensure that it performs to the best of its ability. The loss metric is used by machine learning algorithms to score the performance of the model through each iteration and epoch by evaluating the inaccuracy of a single input.\n",
    "\n",
    "To enhance the performance of our classification neural network, we'll use the adam optimizer, which uses a gradient descent approach to ensure that the algorithm will not get stuck on weaker classifying variables and features. As for the loss function, we'll use binary_crossentropy, which is specifically designed to evaluate a binary classification model."
   ]
  },
  {
   "cell_type": "code",
   "execution_count": 10,
   "id": "alpha-constitution",
   "metadata": {},
   "outputs": [],
   "source": [
    "# There are two main types of evaluation metrics—the model predictive accuracy and model mean squared error (MSE).\n",
    "# We use accuracy for classification models and msefor regression models. For model predictive accuracy,\n",
    "# the higher the number the better, whereas for regression models, MSE should reduce to zero.\n",
    "\n",
    "# Compile the Sequential model together and customize metrics\n",
    "nn_model.compile(loss=\"binary_crossentropy\", optimizer=\"adam\", metrics=[\"accuracy\"])"
   ]
  },
  {
   "cell_type": "code",
   "execution_count": 11,
   "id": "interpreted-madness",
   "metadata": {},
   "outputs": [
    {
     "name": "stdout",
     "output_type": "stream",
     "text": [
      "Epoch 1/100\n",
      "24/24 [==============================] - 0s 783us/step - loss: 0.6392 - accuracy: 0.8965\n",
      "Epoch 2/100\n",
      "24/24 [==============================] - 0s 1ms/step - loss: 0.6270 - accuracy: 0.9964\n",
      "Epoch 3/100\n",
      "24/24 [==============================] - 0s 1ms/step - loss: 0.6162 - accuracy: 0.9981\n",
      "Epoch 4/100\n",
      "24/24 [==============================] - 0s 1ms/step - loss: 0.6035 - accuracy: 1.0000\n",
      "Epoch 5/100\n",
      "24/24 [==============================] - 0s 1ms/step - loss: 0.5910 - accuracy: 1.0000\n",
      "Epoch 6/100\n",
      "24/24 [==============================] - 0s 1ms/step - loss: 0.5821 - accuracy: 1.0000\n",
      "Epoch 7/100\n",
      "24/24 [==============================] - 0s 957us/step - loss: 0.5695 - accuracy: 1.0000\n",
      "Epoch 8/100\n",
      "24/24 [==============================] - 0s 1000us/step - loss: 0.5587 - accuracy: 1.0000\n",
      "Epoch 9/100\n",
      "24/24 [==============================] - 0s 1ms/step - loss: 0.5417 - accuracy: 1.0000\n",
      "Epoch 10/100\n",
      "24/24 [==============================] - 0s 869us/step - loss: 0.5273 - accuracy: 1.0000\n",
      "Epoch 11/100\n",
      "24/24 [==============================] - 0s 869us/step - loss: 0.5173 - accuracy: 1.0000\n",
      "Epoch 12/100\n",
      "24/24 [==============================] - 0s 913us/step - loss: 0.4996 - accuracy: 1.0000\n",
      "Epoch 13/100\n",
      "24/24 [==============================] - 0s 913us/step - loss: 0.4880 - accuracy: 1.0000\n",
      "Epoch 14/100\n",
      "24/24 [==============================] - 0s 913us/step - loss: 0.4723 - accuracy: 1.0000\n",
      "Epoch 15/100\n",
      "24/24 [==============================] - 0s 913us/step - loss: 0.4508 - accuracy: 1.0000\n",
      "Epoch 16/100\n",
      "24/24 [==============================] - 0s 956us/step - loss: 0.4425 - accuracy: 1.0000\n",
      "Epoch 17/100\n",
      "24/24 [==============================] - 0s 826us/step - loss: 0.4251 - accuracy: 1.0000\n",
      "Epoch 18/100\n",
      "24/24 [==============================] - 0s 913us/step - loss: 0.4211 - accuracy: 1.0000\n",
      "Epoch 19/100\n",
      "24/24 [==============================] - 0s 826us/step - loss: 0.3954 - accuracy: 1.0000\n",
      "Epoch 20/100\n",
      "24/24 [==============================] - 0s 1ms/step - loss: 0.3821 - accuracy: 1.0000\n",
      "Epoch 21/100\n",
      "24/24 [==============================] - 0s 870us/step - loss: 0.3809 - accuracy: 1.0000\n",
      "Epoch 22/100\n",
      "24/24 [==============================] - 0s 739us/step - loss: 0.3700 - accuracy: 1.0000\n",
      "Epoch 23/100\n",
      "24/24 [==============================] - 0s 869us/step - loss: 0.3566 - accuracy: 1.0000\n",
      "Epoch 24/100\n",
      "24/24 [==============================] - 0s 869us/step - loss: 0.3427 - accuracy: 1.0000\n",
      "Epoch 25/100\n",
      "24/24 [==============================] - 0s 696us/step - loss: 0.3312 - accuracy: 1.0000\n",
      "Epoch 26/100\n",
      "24/24 [==============================] - 0s 739us/step - loss: 0.3256 - accuracy: 1.0000\n",
      "Epoch 27/100\n",
      "24/24 [==============================] - 0s 826us/step - loss: 0.3144 - accuracy: 1.0000\n",
      "Epoch 28/100\n",
      "24/24 [==============================] - 0s 740us/step - loss: 0.3005 - accuracy: 1.0000\n",
      "Epoch 29/100\n",
      "24/24 [==============================] - ETA: 0s - loss: 0.2943 - accuracy: 1.00 - 0s 912us/step - loss: 0.2929 - accuracy: 1.0000\n",
      "Epoch 30/100\n",
      "24/24 [==============================] - 0s 1ms/step - loss: 0.2887 - accuracy: 1.0000\n",
      "Epoch 31/100\n",
      "24/24 [==============================] - 0s 957us/step - loss: 0.2809 - accuracy: 1.0000\n",
      "Epoch 32/100\n",
      "24/24 [==============================] - 0s 870us/step - loss: 0.2726 - accuracy: 1.0000\n",
      "Epoch 33/100\n",
      "24/24 [==============================] - 0s 1ms/step - loss: 0.2592 - accuracy: 1.0000\n",
      "Epoch 34/100\n",
      "24/24 [==============================] - 0s 826us/step - loss: 0.2644 - accuracy: 1.0000\n",
      "Epoch 35/100\n",
      "24/24 [==============================] - 0s 652us/step - loss: 0.2434 - accuracy: 1.0000\n",
      "Epoch 36/100\n",
      "24/24 [==============================] - 0s 913us/step - loss: 0.2505 - accuracy: 1.0000\n",
      "Epoch 37/100\n",
      "24/24 [==============================] - 0s 913us/step - loss: 0.2304 - accuracy: 1.0000\n",
      "Epoch 38/100\n",
      "24/24 [==============================] - 0s 957us/step - loss: 0.2302 - accuracy: 1.0000\n",
      "Epoch 39/100\n",
      "24/24 [==============================] - 0s 871us/step - loss: 0.2247 - accuracy: 1.0000\n",
      "Epoch 40/100\n",
      "24/24 [==============================] - 0s 783us/step - loss: 0.2174 - accuracy: 1.0000\n",
      "Epoch 41/100\n",
      "24/24 [==============================] - 0s 826us/step - loss: 0.2089 - accuracy: 1.0000\n",
      "Epoch 42/100\n",
      "24/24 [==============================] - 0s 739us/step - loss: 0.2153 - accuracy: 1.0000\n",
      "Epoch 43/100\n",
      "24/24 [==============================] - 0s 957us/step - loss: 0.2054 - accuracy: 1.0000\n",
      "Epoch 44/100\n",
      "24/24 [==============================] - 0s 1ms/step - loss: 0.1991 - accuracy: 1.0000\n",
      "Epoch 45/100\n",
      "24/24 [==============================] - 0s 1ms/step - loss: 0.1911 - accuracy: 1.0000\n",
      "Epoch 46/100\n",
      "24/24 [==============================] - 0s 1ms/step - loss: 0.1887 - accuracy: 1.0000\n",
      "Epoch 47/100\n",
      "24/24 [==============================] - 0s 1ms/step - loss: 0.1950 - accuracy: 1.0000\n",
      "Epoch 48/100\n",
      "24/24 [==============================] - 0s 1ms/step - loss: 0.1788 - accuracy: 1.0000\n",
      "Epoch 49/100\n",
      "24/24 [==============================] - 0s 913us/step - loss: 0.1797 - accuracy: 1.0000\n",
      "Epoch 50/100\n",
      "24/24 [==============================] - 0s 956us/step - loss: 0.1723 - accuracy: 1.0000\n",
      "Epoch 51/100\n",
      "24/24 [==============================] - 0s 870us/step - loss: 0.1687 - accuracy: 1.0000\n",
      "Epoch 52/100\n",
      "24/24 [==============================] - 0s 1ms/step - loss: 0.1644 - accuracy: 1.0000\n",
      "Epoch 53/100\n",
      "24/24 [==============================] - 0s 1ms/step - loss: 0.1597 - accuracy: 1.0000\n",
      "Epoch 54/100\n",
      "24/24 [==============================] - 0s 913us/step - loss: 0.1605 - accuracy: 1.0000\n",
      "Epoch 55/100\n",
      "24/24 [==============================] - 0s 1000us/step - loss: 0.1551 - accuracy: 1.0000\n",
      "Epoch 56/100\n",
      "24/24 [==============================] - 0s 1ms/step - loss: 0.1537 - accuracy: 1.0000\n",
      "Epoch 57/100\n",
      "24/24 [==============================] - 0s 913us/step - loss: 0.1434 - accuracy: 1.0000\n",
      "Epoch 58/100\n",
      "24/24 [==============================] - 0s 739us/step - loss: 0.1433 - accuracy: 1.0000\n",
      "Epoch 59/100\n",
      "24/24 [==============================] - 0s 739us/step - loss: 0.1417 - accuracy: 1.0000\n",
      "Epoch 60/100\n",
      "24/24 [==============================] - 0s 696us/step - loss: 0.1498 - accuracy: 1.0000\n",
      "Epoch 61/100\n",
      "24/24 [==============================] - 0s 696us/step - loss: 0.1390 - accuracy: 1.0000\n",
      "Epoch 62/100\n",
      "24/24 [==============================] - 0s 783us/step - loss: 0.1313 - accuracy: 1.0000\n",
      "Epoch 63/100\n",
      "24/24 [==============================] - 0s 696us/step - loss: 0.1332 - accuracy: 1.0000\n",
      "Epoch 64/100\n",
      "24/24 [==============================] - 0s 913us/step - loss: 0.1327 - accuracy: 1.0000\n",
      "Epoch 65/100\n",
      "24/24 [==============================] - 0s 913us/step - loss: 0.1276 - accuracy: 1.0000\n",
      "Epoch 66/100\n",
      "24/24 [==============================] - 0s 869us/step - loss: 0.1208 - accuracy: 1.0000\n",
      "Epoch 67/100\n",
      "24/24 [==============================] - 0s 869us/step - loss: 0.1227 - accuracy: 1.0000\n",
      "Epoch 68/100\n",
      "24/24 [==============================] - 0s 1000us/step - loss: 0.1244 - accuracy: 1.0000\n",
      "Epoch 69/100\n",
      "24/24 [==============================] - 0s 957us/step - loss: 0.1180 - accuracy: 1.0000\n",
      "Epoch 70/100\n",
      "24/24 [==============================] - 0s 913us/step - loss: 0.1173 - accuracy: 1.0000\n",
      "Epoch 71/100\n",
      "24/24 [==============================] - 0s 870us/step - loss: 0.1155 - accuracy: 1.0000\n",
      "Epoch 72/100\n",
      "24/24 [==============================] - 0s 913us/step - loss: 0.1173 - accuracy: 1.0000\n",
      "Epoch 73/100\n",
      "24/24 [==============================] - 0s 1ms/step - loss: 0.1101 - accuracy: 1.0000\n",
      "Epoch 74/100\n",
      "24/24 [==============================] - 0s 1ms/step - loss: 0.1040 - accuracy: 1.0000\n",
      "Epoch 75/100\n",
      "24/24 [==============================] - 0s 1ms/step - loss: 0.0998 - accuracy: 1.0000\n",
      "Epoch 76/100\n",
      "24/24 [==============================] - 0s 1ms/step - loss: 0.1045 - accuracy: 1.0000\n",
      "Epoch 77/100\n",
      "24/24 [==============================] - 0s 1ms/step - loss: 0.1046 - accuracy: 1.0000\n",
      "Epoch 78/100\n",
      "24/24 [==============================] - 0s 1000us/step - loss: 0.1001 - accuracy: 1.0000\n",
      "Epoch 79/100\n",
      "24/24 [==============================] - 0s 1000us/step - loss: 0.1004 - accuracy: 1.0000\n",
      "Epoch 80/100\n",
      "24/24 [==============================] - 0s 1ms/step - loss: 0.1000 - accuracy: 1.0000\n",
      "Epoch 81/100\n",
      "24/24 [==============================] - 0s 870us/step - loss: 0.0939 - accuracy: 1.0000\n",
      "Epoch 82/100\n",
      "24/24 [==============================] - 0s 826us/step - loss: 0.0934 - accuracy: 1.0000\n",
      "Epoch 83/100\n",
      "24/24 [==============================] - 0s 869us/step - loss: 0.0932 - accuracy: 1.0000\n",
      "Epoch 84/100\n",
      "24/24 [==============================] - 0s 913us/step - loss: 0.0915 - accuracy: 1.0000\n",
      "Epoch 85/100\n",
      "24/24 [==============================] - 0s 869us/step - loss: 0.0858 - accuracy: 1.0000\n",
      "Epoch 86/100\n",
      "24/24 [==============================] - 0s 739us/step - loss: 0.0845 - accuracy: 1.0000\n",
      "Epoch 87/100\n",
      "24/24 [==============================] - 0s 783us/step - loss: 0.0874 - accuracy: 1.0000\n",
      "Epoch 88/100\n",
      "24/24 [==============================] - 0s 869us/step - loss: 0.0839 - accuracy: 1.0000\n",
      "Epoch 89/100\n",
      "24/24 [==============================] - 0s 783us/step - loss: 0.0828 - accuracy: 1.0000\n",
      "Epoch 90/100\n",
      "24/24 [==============================] - 0s 783us/step - loss: 0.0844 - accuracy: 1.0000\n",
      "Epoch 91/100\n",
      "24/24 [==============================] - 0s 783us/step - loss: 0.0818 - accuracy: 1.0000\n",
      "Epoch 92/100\n",
      "24/24 [==============================] - 0s 739us/step - loss: 0.0787 - accuracy: 1.0000\n",
      "Epoch 93/100\n",
      "24/24 [==============================] - 0s 695us/step - loss: 0.0784 - accuracy: 1.0000\n",
      "Epoch 94/100\n",
      "24/24 [==============================] - 0s 826us/step - loss: 0.0765 - accuracy: 1.0000\n",
      "Epoch 95/100\n",
      "24/24 [==============================] - 0s 869us/step - loss: 0.0766 - accuracy: 1.0000\n",
      "Epoch 96/100\n",
      "24/24 [==============================] - 0s 739us/step - loss: 0.0751 - accuracy: 1.0000\n",
      "Epoch 97/100\n",
      "24/24 [==============================] - 0s 783us/step - loss: 0.0720 - accuracy: 1.0000\n",
      "Epoch 98/100\n",
      "24/24 [==============================] - 0s 1ms/step - loss: 0.0758 - accuracy: 1.0000\n",
      "Epoch 99/100\n",
      "24/24 [==============================] - 0s 1ms/step - loss: 0.0743 - accuracy: 1.0000\n",
      "Epoch 100/100\n",
      "24/24 [==============================] - 0s 1ms/step - loss: 0.0703 - accuracy: 1.0000\n"
     ]
    }
   ],
   "source": [
    "# To train/fit our Keras model, we'll use the fit method and provide the x training values and y training values, as well as the number of epochs.\n",
    "# Fit the model to the training data\n",
    "fit_model = nn_model.fit(X_train_scaled, y_train, epochs=100)"
   ]
  },
  {
   "cell_type": "code",
   "execution_count": 13,
   "id": "announced-memory",
   "metadata": {},
   "outputs": [
    {
     "data": {
      "text/plain": [
       "<AxesSubplot:>"
      ]
     },
     "execution_count": 13,
     "metadata": {},
     "output_type": "execute_result"
    },
    {
     "data": {
      "image/png": "[encoded data removed]",
      "text/plain": [
       "<Figure size 432x288 with 1 Axes>"
      ]
     },
     "metadata": {
      "needs_background": "light"
     },
     "output_type": "display_data"
    }
   ],
   "source": [
    "# Create a DataFrame containing training history\n",
    "history_df = pd.DataFrame(fit_model.history, index=range(1,len(fit_model.history[\"loss\"])+1))\n",
    "\n",
    "# Plot the loss\n",
    "history_df.plot(y=\"loss\")"
   ]
  },
  {
   "cell_type": "code",
   "execution_count": 14,
   "id": "valid-concord",
   "metadata": {},
   "outputs": [
    {
     "data": {
      "text/plain": [
       "<AxesSubplot:>"
      ]
     },
     "execution_count": 14,
     "metadata": {},
     "output_type": "execute_result"
    },
    {
     "data": {
      "image/png": "[encoded data removed]",
      "text/plain": [
       "<Figure size 432x288 with 1 Axes>"
      ]
     },
     "metadata": {
      "needs_background": "light"
     },
     "output_type": "display_data"
    }
   ],
   "source": [
    "# Plot the accuracy\n",
    "history_df.plot(y=\"accuracy\")"
   ]
  },
  {
   "cell_type": "code",
   "execution_count": 17,
   "id": "polish-explanation",
   "metadata": {},
   "outputs": [
    {
     "name": "stdout",
     "output_type": "stream",
     "text": [
      "8/8 - 0s - loss: 0.0716 - accuracy: 1.0000\n",
      "Loss: 0.07157086580991745, Accuracy: 1.0\n",
      "---------------------------------------------------------------------\n",
      "8/8 [==============================] - 0s 858us/step - loss: 0.0716 - accuracy: 1.0000\n",
      "[0.07157086580991745, 1.0]\n"
     ]
    }
   ],
   "source": [
    "# Evaluate the model using the test data\n",
    "model_loss, model_accuracy = nn_model.evaluate(X_test_scaled,y_test,verbose=2)\n",
    "print(f\"Loss: {model_loss}, Accuracy: {model_accuracy}\")\n",
    "print(\"---------------------------------------------------------------------\")\n",
    "print(nn_model.evaluate(X_test_scaled,y_test))"
   ]
  },
  {
   "cell_type": "code",
   "execution_count": 18,
   "id": "exempt-stroke",
   "metadata": {},
   "outputs": [
    {
     "data": {
      "text/plain": [
       "array([[0],\n",
       "       [1],\n",
       "       [1],\n",
       "       [1],\n",
       "       [1],\n",
       "       [0],\n",
       "       [0],\n",
       "       [1],\n",
       "       [1],\n",
       "       [1]])"
      ]
     },
     "execution_count": 18,
     "metadata": {},
     "output_type": "execute_result"
    }
   ],
   "source": [
    "# Predict the classification of a new set of blob data\n",
    "new_X, new_Y = make_blobs(n_samples=10, centers=2, n_features=2, random_state=42)\n",
    "new_X_scaled = X_scaler.transform(new_X)\n",
    "(nn_model.predict(new_X_scaled) > 0.5).astype(\"int32\")"
   ]
  },
  {
   "cell_type": "code",
   "execution_count": 19,
   "id": "vocational-citation",
   "metadata": {},
   "outputs": [
    {
     "data": {
      "text/plain": [
       "<AxesSubplot:xlabel='Feature 1', ylabel='Feature 2'>"
      ]
     },
     "execution_count": 19,
     "metadata": {},
     "output_type": "execute_result"
    },
    {
     "data": {
      "image/png": "[encoded data removed]",
      "text/plain": [
       "<Figure size 432x288 with 2 Axes>"
      ]
     },
     "metadata": {
      "needs_background": "light"
     },
     "output_type": "display_data"
    }
   ],
   "source": [
    "# We'll generate some nonlinear moon-shaped data using Scikit-learn's make_moons method and visualize it using Pandas and Matplotlib.\n",
    "from sklearn.datasets import make_moons\n",
    "\n",
    "# Creating dummy nonlinear data\n",
    "X_moons, y_moons = make_moons(n_samples=1000, noise=0.08, random_state=42)\n",
    "\n",
    "# Transforming y_moons to a vertical vector\n",
    "y_moons = y_moons.reshape(-1, 1)\n",
    "\n",
    "# Creating a DataFrame to plot the nonlinear dummy data\n",
    "df_moons = pd.DataFrame(X_moons, columns=[\"Feature 1\", \"Feature 2\"])\n",
    "df_moons[\"Target\"] = y_moons\n",
    "\n",
    "# Plot the nonlinear dummy data\n",
    "df_moons.plot.scatter(x=\"Feature 1\",y=\"Feature 2\", c=\"Target\",colormap=\"winter\")"
   ]
  },
  {
   "cell_type": "code",
   "execution_count": 20,
   "id": "earlier-feedback",
   "metadata": {},
   "outputs": [],
   "source": [
    "# We need to split our nonlinear data into training and testing datasets and normalize our datasets.\n",
    "\n",
    "# Create training and testing sets\n",
    "X_moon_train, X_moon_test, y_moon_train, y_moon_test = train_test_split(\n",
    "    X_moons, y_moons, random_state=78\n",
    ")\n",
    "\n",
    "# Create the scaler instance\n",
    "X_moon_scaler = skl.preprocessing.StandardScaler()\n",
    "\n",
    "# Fit the scaler\n",
    "X_moon_scaler.fit(X_moon_train)\n",
    "\n",
    "# Scale the data\n",
    "X_moon_train_scaled = X_moon_scaler.transform(X_moon_train)\n",
    "X_moon_test_scaled = X_moon_scaler.transform(X_moon_test)"
   ]
  },
  {
   "cell_type": "code",
   "execution_count": 21,
   "id": "biological-egypt",
   "metadata": {},
   "outputs": [
    {
     "name": "stdout",
     "output_type": "stream",
     "text": [
      "Epoch 1/100\n",
      "24/24 [==============================] - 0s 1ms/step - loss: 0.8979 - accuracy: 0.5507\n",
      "Epoch 2/100\n",
      "24/24 [==============================] - 0s 1ms/step - loss: 0.8079 - accuracy: 0.5680\n",
      "Epoch 3/100\n",
      "24/24 [==============================] - 0s 1ms/step - loss: 0.7440 - accuracy: 0.5893\n",
      "Epoch 4/100\n",
      "24/24 [==============================] - 0s 1ms/step - loss: 0.6986 - accuracy: 0.6053\n",
      "Epoch 5/100\n",
      "24/24 [==============================] - 0s 1ms/step - loss: 0.6635 - accuracy: 0.6187\n",
      "Epoch 6/100\n",
      "24/24 [==============================] - 0s 1ms/step - loss: 0.6350 - accuracy: 0.6373\n",
      "Epoch 7/100\n",
      "24/24 [==============================] - 0s 1ms/step - loss: 0.6108 - accuracy: 0.6427\n",
      "Epoch 8/100\n",
      "24/24 [==============================] - 0s 1ms/step - loss: 0.5900 - accuracy: 0.6520\n",
      "Epoch 9/100\n",
      "24/24 [==============================] - 0s 1ms/step - loss: 0.5724 - accuracy: 0.6653\n",
      "Epoch 10/100\n",
      "24/24 [==============================] - 0s 1ms/step - loss: 0.5560 - accuracy: 0.6680\n",
      "Epoch 11/100\n",
      "24/24 [==============================] - 0s 1ms/step - loss: 0.5417 - accuracy: 0.6747\n",
      "Epoch 12/100\n",
      "24/24 [==============================] - 0s 1ms/step - loss: 0.5288 - accuracy: 0.6800\n",
      "Epoch 13/100\n",
      "24/24 [==============================] - 0s 1ms/step - loss: 0.5167 - accuracy: 0.6867\n",
      "Epoch 14/100\n",
      "24/24 [==============================] - 0s 1ms/step - loss: 0.5055 - accuracy: 0.6893\n",
      "Epoch 15/100\n",
      "24/24 [==============================] - 0s 1ms/step - loss: 0.4955 - accuracy: 0.6987\n",
      "Epoch 16/100\n",
      "24/24 [==============================] - 0s 1ms/step - loss: 0.4858 - accuracy: 0.7053\n",
      "Epoch 17/100\n",
      "24/24 [==============================] - 0s 1ms/step - loss: 0.4767 - accuracy: 0.7160\n",
      "Epoch 18/100\n",
      "24/24 [==============================] - 0s 1ms/step - loss: 0.4683 - accuracy: 0.7200\n",
      "Epoch 19/100\n",
      "24/24 [==============================] - 0s 1ms/step - loss: 0.4601 - accuracy: 0.7280\n",
      "Epoch 20/100\n",
      "24/24 [==============================] - 0s 1ms/step - loss: 0.4524 - accuracy: 0.7333\n",
      "Epoch 21/100\n",
      "24/24 [==============================] - 0s 1ms/step - loss: 0.4453 - accuracy: 0.7400\n",
      "Epoch 22/100\n",
      "24/24 [==============================] - 0s 1ms/step - loss: 0.4382 - accuracy: 0.7413\n",
      "Epoch 23/100\n",
      "24/24 [==============================] - 0s 1ms/step - loss: 0.4315 - accuracy: 0.7507\n",
      "Epoch 24/100\n",
      "24/24 [==============================] - 0s 1ms/step - loss: 0.4251 - accuracy: 0.7573\n",
      "Epoch 25/100\n",
      "24/24 [==============================] - 0s 1ms/step - loss: 0.4189 - accuracy: 0.7587\n",
      "Epoch 26/100\n",
      "24/24 [==============================] - 0s 1ms/step - loss: 0.4130 - accuracy: 0.7613\n",
      "Epoch 27/100\n",
      "24/24 [==============================] - 0s 1ms/step - loss: 0.4073 - accuracy: 0.7693\n",
      "Epoch 28/100\n",
      "24/24 [==============================] - 0s 1ms/step - loss: 0.4018 - accuracy: 0.7760\n",
      "Epoch 29/100\n",
      "24/24 [==============================] - 0s 1ms/step - loss: 0.3964 - accuracy: 0.7813\n",
      "Epoch 30/100\n",
      "24/24 [==============================] - 0s 1ms/step - loss: 0.3914 - accuracy: 0.7827\n",
      "Epoch 31/100\n",
      "24/24 [==============================] - 0s 1ms/step - loss: 0.3862 - accuracy: 0.7867\n",
      "Epoch 32/100\n",
      "24/24 [==============================] - 0s 1ms/step - loss: 0.3814 - accuracy: 0.7933\n",
      "Epoch 33/100\n",
      "24/24 [==============================] - 0s 1ms/step - loss: 0.3767 - accuracy: 0.7947\n",
      "Epoch 34/100\n",
      "24/24 [==============================] - 0s 1ms/step - loss: 0.3719 - accuracy: 0.7973\n",
      "Epoch 35/100\n",
      "24/24 [==============================] - 0s 1ms/step - loss: 0.3672 - accuracy: 0.8000\n",
      "Epoch 36/100\n",
      "24/24 [==============================] - 0s 2ms/step - loss: 0.3628 - accuracy: 0.8013\n",
      "Epoch 37/100\n",
      "24/24 [==============================] - 0s 2ms/step - loss: 0.3586 - accuracy: 0.8107\n",
      "Epoch 38/100\n",
      "24/24 [==============================] - 0s 2ms/step - loss: 0.3545 - accuracy: 0.8120\n",
      "Epoch 39/100\n",
      "24/24 [==============================] - 0s 2ms/step - loss: 0.3505 - accuracy: 0.8133\n",
      "Epoch 40/100\n",
      "24/24 [==============================] - 0s 1ms/step - loss: 0.3466 - accuracy: 0.8187\n",
      "Epoch 41/100\n",
      "24/24 [==============================] - 0s 1ms/step - loss: 0.3430 - accuracy: 0.8213\n",
      "Epoch 42/100\n",
      "24/24 [==============================] - 0s 1ms/step - loss: 0.3395 - accuracy: 0.8240\n",
      "Epoch 43/100\n",
      "24/24 [==============================] - 0s 1ms/step - loss: 0.3362 - accuracy: 0.8280\n",
      "Epoch 44/100\n",
      "24/24 [==============================] - 0s 1ms/step - loss: 0.3329 - accuracy: 0.8280\n",
      "Epoch 45/100\n",
      "24/24 [==============================] - 0s 1ms/step - loss: 0.3299 - accuracy: 0.8293\n",
      "Epoch 46/100\n",
      "24/24 [==============================] - 0s 1ms/step - loss: 0.3269 - accuracy: 0.8293\n",
      "Epoch 47/100\n",
      "24/24 [==============================] - 0s 1ms/step - loss: 0.3240 - accuracy: 0.8320\n",
      "Epoch 48/100\n",
      "24/24 [==============================] - 0s 1ms/step - loss: 0.3214 - accuracy: 0.8347\n",
      "Epoch 49/100\n",
      "24/24 [==============================] - 0s 1ms/step - loss: 0.3188 - accuracy: 0.8360\n",
      "Epoch 50/100\n",
      "24/24 [==============================] - 0s 1ms/step - loss: 0.3163 - accuracy: 0.8427\n",
      "Epoch 51/100\n",
      "24/24 [==============================] - 0s 1ms/step - loss: 0.3140 - accuracy: 0.8453\n",
      "Epoch 52/100\n",
      "24/24 [==============================] - 0s 1ms/step - loss: 0.3116 - accuracy: 0.8453\n",
      "Epoch 53/100\n",
      "24/24 [==============================] - 0s 1ms/step - loss: 0.3094 - accuracy: 0.8493\n",
      "Epoch 54/100\n",
      "24/24 [==============================] - 0s 1ms/step - loss: 0.3073 - accuracy: 0.8547\n",
      "Epoch 55/100\n",
      "24/24 [==============================] - 0s 1ms/step - loss: 0.3052 - accuracy: 0.8560\n",
      "Epoch 56/100\n",
      "24/24 [==============================] - 0s 1ms/step - loss: 0.3033 - accuracy: 0.8587\n",
      "Epoch 57/100\n",
      "24/24 [==============================] - 0s 1ms/step - loss: 0.3014 - accuracy: 0.8587\n",
      "Epoch 58/100\n",
      "24/24 [==============================] - 0s 1ms/step - loss: 0.2996 - accuracy: 0.8600\n",
      "Epoch 59/100\n",
      "24/24 [==============================] - 0s 1ms/step - loss: 0.2979 - accuracy: 0.8600\n",
      "Epoch 60/100\n",
      "24/24 [==============================] - 0s 1ms/step - loss: 0.2962 - accuracy: 0.8613\n",
      "Epoch 61/100\n",
      "24/24 [==============================] - 0s 1ms/step - loss: 0.2946 - accuracy: 0.8627\n",
      "Epoch 62/100\n",
      "24/24 [==============================] - 0s 1ms/step - loss: 0.2930 - accuracy: 0.8640\n",
      "Epoch 63/100\n",
      "24/24 [==============================] - 0s 1ms/step - loss: 0.2917 - accuracy: 0.8640\n",
      "Epoch 64/100\n",
      "24/24 [==============================] - 0s 1ms/step - loss: 0.2901 - accuracy: 0.8640\n",
      "Epoch 65/100\n",
      "24/24 [==============================] - 0s 1ms/step - loss: 0.2888 - accuracy: 0.8640\n",
      "Epoch 66/100\n",
      "24/24 [==============================] - 0s 1ms/step - loss: 0.2875 - accuracy: 0.8653\n",
      "Epoch 67/100\n",
      "24/24 [==============================] - ETA: 0s - loss: 0.2084 - accuracy: 0.96 - 0s 1ms/step - loss: 0.2863 - accuracy: 0.8667\n",
      "Epoch 68/100\n",
      "24/24 [==============================] - 0s 1ms/step - loss: 0.2850 - accuracy: 0.8667\n",
      "Epoch 69/100\n",
      "24/24 [==============================] - 0s 1ms/step - loss: 0.2839 - accuracy: 0.8680\n",
      "Epoch 70/100\n",
      "24/24 [==============================] - 0s 1ms/step - loss: 0.2827 - accuracy: 0.8680\n",
      "Epoch 71/100\n",
      "24/24 [==============================] - 0s 1ms/step - loss: 0.2816 - accuracy: 0.8693\n",
      "Epoch 72/100\n",
      "24/24 [==============================] - 0s 1ms/step - loss: 0.2806 - accuracy: 0.8720\n",
      "Epoch 73/100\n",
      "24/24 [==============================] - 0s 1ms/step - loss: 0.2796 - accuracy: 0.8720\n",
      "Epoch 74/100\n",
      "24/24 [==============================] - 0s 1ms/step - loss: 0.2787 - accuracy: 0.8720\n",
      "Epoch 75/100\n",
      "24/24 [==============================] - 0s 1ms/step - loss: 0.2777 - accuracy: 0.8720\n",
      "Epoch 76/100\n",
      "24/24 [==============================] - 0s 1ms/step - loss: 0.2769 - accuracy: 0.8733\n",
      "Epoch 77/100\n",
      "24/24 [==============================] - 0s 1ms/step - loss: 0.2760 - accuracy: 0.8733\n",
      "Epoch 78/100\n",
      "24/24 [==============================] - 0s 1ms/step - loss: 0.2752 - accuracy: 0.8747\n",
      "Epoch 79/100\n",
      "24/24 [==============================] - 0s 2ms/step - loss: 0.2745 - accuracy: 0.8747\n",
      "Epoch 80/100\n",
      "24/24 [==============================] - 0s 1ms/step - loss: 0.2737 - accuracy: 0.8747\n",
      "Epoch 81/100\n",
      "24/24 [==============================] - 0s 1ms/step - loss: 0.2730 - accuracy: 0.8747\n",
      "Epoch 82/100\n",
      "24/24 [==============================] - ETA: 0s - loss: 0.2559 - accuracy: 0.87 - 0s 1ms/step - loss: 0.2724 - accuracy: 0.8747\n",
      "Epoch 83/100\n",
      "24/24 [==============================] - 0s 1ms/step - loss: 0.2716 - accuracy: 0.8747\n",
      "Epoch 84/100\n",
      "24/24 [==============================] - 0s 2ms/step - loss: 0.2711 - accuracy: 0.8760\n",
      "Epoch 85/100\n",
      "24/24 [==============================] - 0s 1ms/step - loss: 0.2704 - accuracy: 0.8760\n",
      "Epoch 86/100\n",
      "24/24 [==============================] - 0s 1ms/step - loss: 0.2698 - accuracy: 0.8760\n",
      "Epoch 87/100\n",
      "24/24 [==============================] - 0s 2ms/step - loss: 0.2692 - accuracy: 0.8773\n",
      "Epoch 88/100\n",
      "24/24 [==============================] - 0s 1ms/step - loss: 0.2687 - accuracy: 0.8773\n",
      "Epoch 89/100\n",
      "24/24 [==============================] - 0s 1ms/step - loss: 0.2682 - accuracy: 0.8773\n",
      "Epoch 90/100\n",
      "24/24 [==============================] - 0s 1ms/step - loss: 0.2676 - accuracy: 0.8773\n",
      "Epoch 91/100\n",
      "24/24 [==============================] - 0s 1ms/step - loss: 0.2672 - accuracy: 0.8773\n",
      "Epoch 92/100\n",
      "24/24 [==============================] - 0s 1ms/step - loss: 0.2667 - accuracy: 0.8773\n",
      "Epoch 93/100\n",
      "24/24 [==============================] - 0s 1ms/step - loss: 0.2664 - accuracy: 0.8773\n",
      "Epoch 94/100\n",
      "24/24 [==============================] - 0s 1ms/step - loss: 0.2659 - accuracy: 0.8773\n",
      "Epoch 95/100\n",
      "24/24 [==============================] - 0s 1ms/step - loss: 0.2655 - accuracy: 0.8773\n",
      "Epoch 96/100\n",
      "24/24 [==============================] - 0s 1ms/step - loss: 0.2651 - accuracy: 0.8773\n",
      "Epoch 97/100\n",
      "24/24 [==============================] - 0s 1ms/step - loss: 0.2647 - accuracy: 0.8773\n",
      "Epoch 98/100\n",
      "24/24 [==============================] - 0s 1ms/step - loss: 0.2643 - accuracy: 0.8773\n",
      "Epoch 99/100\n",
      "24/24 [==============================] - 0s 1ms/step - loss: 0.2640 - accuracy: 0.8773\n",
      "Epoch 100/100\n",
      "24/24 [==============================] - 0s 1ms/step - loss: 0.2636 - accuracy: 0.8787\n"
     ]
    }
   ],
   "source": [
    "# We'll train our neural network model using the fit method on the nonlinear training data.\n",
    "\n",
    "# Training the model with the nonlinear data\n",
    "model_moon = nn_model.fit(X_moon_train_scaled, y_moon_train, epochs=100, shuffle=True)"
   ]
  },
  {
   "cell_type": "code",
   "execution_count": 22,
   "id": "sustainable-detector",
   "metadata": {},
   "outputs": [
    {
     "data": {
      "text/plain": [
       "<AxesSubplot:>"
      ]
     },
     "execution_count": 22,
     "metadata": {},
     "output_type": "execute_result"
    },
    {
     "data": {
      "image/png": "[encoded data removed]",
      "text/plain": [
       "<Figure size 432x288 with 1 Axes>"
      ]
     },
     "metadata": {
      "needs_background": "light"
     },
     "output_type": "display_data"
    }
   ],
   "source": [
    "# Create a DataFrame containing training history\n",
    "history_df = pd.DataFrame(model_moon.history, index=range(1,len(model_moon.history[\"loss\"])+1))\n",
    "\n",
    "# Plot the loss\n",
    "history_df.plot(y=\"loss\")"
   ]
  },
  {
   "cell_type": "code",
   "execution_count": 23,
   "id": "academic-professor",
   "metadata": {},
   "outputs": [
    {
     "data": {
      "text/plain": [
       "<AxesSubplot:>"
      ]
     },
     "execution_count": 23,
     "metadata": {},
     "output_type": "execute_result"
    },
    {
     "data": {
      "image/png": "[encoded data removed]",
      "text/plain": [
       "<Figure size 432x288 with 1 Axes>"
      ]
     },
     "metadata": {
      "needs_background": "light"
     },
     "output_type": "display_data"
    }
   ],
   "source": [
    "# Plot the loss\n",
    "history_df.plot(y=\"accuracy\")"
   ]
  },
  {
   "cell_type": "code",
   "execution_count": 24,
   "id": "mineral-generator",
   "metadata": {},
   "outputs": [],
   "source": [
    "# Generate our new Sequential model\n",
    "new_model = tf.keras.models.Sequential()"
   ]
  },
  {
   "cell_type": "code",
   "execution_count": 25,
   "id": "governing-architecture",
   "metadata": {},
   "outputs": [],
   "source": [
    "# Add the input and hidden layer\n",
    "number_inputs = 2\n",
    "number_hidden_nodes = 6\n",
    "\n",
    "new_model.add(tf.keras.layers.Dense(units=number_hidden_nodes, activation=\"relu\", input_dim=number_inputs))\n",
    "\n",
    "# Add the output layer that uses a probability activation function\n",
    "new_model.add(tf.keras.layers.Dense(units=1, activation=\"sigmoid\"))"
   ]
  },
  {
   "cell_type": "code",
   "execution_count": 26,
   "id": "collect-syndrome",
   "metadata": {},
   "outputs": [
    {
     "name": "stdout",
     "output_type": "stream",
     "text": [
      "Epoch 1/100\n",
      "24/24 [==============================] - 0s 913us/step - loss: 0.7626 - accuracy: 0.4720\n",
      "Epoch 2/100\n",
      "24/24 [==============================] - 0s 1ms/step - loss: 0.7372 - accuracy: 0.4710\n",
      "Epoch 3/100\n",
      "24/24 [==============================] - 0s 1ms/step - loss: 0.7235 - accuracy: 0.4401\n",
      "Epoch 4/100\n",
      "24/24 [==============================] - 0s 1ms/step - loss: 0.6451 - accuracy: 0.4886\n",
      "Epoch 5/100\n",
      "24/24 [==============================] - 0s 956us/step - loss: 0.6116 - accuracy: 0.4946\n",
      "Epoch 6/100\n",
      "24/24 [==============================] - 0s 1ms/step - loss: 0.6128 - accuracy: 0.4881\n",
      "Epoch 7/100\n",
      "24/24 [==============================] - 0s 739us/step - loss: 0.5861 - accuracy: 0.4866\n",
      "Epoch 8/100\n",
      "24/24 [==============================] - 0s 1ms/step - loss: 0.5604 - accuracy: 0.5185\n",
      "Epoch 9/100\n",
      "24/24 [==============================] - 0s 1ms/step - loss: 0.5587 - accuracy: 0.5050\n",
      "Epoch 10/100\n",
      "24/24 [==============================] - 0s 783us/step - loss: 0.5453 - accuracy: 0.4961\n",
      "Epoch 11/100\n",
      "24/24 [==============================] - 0s 1ms/step - loss: 0.5240 - accuracy: 0.5356\n",
      "Epoch 12/100\n",
      "24/24 [==============================] - 0s 870us/step - loss: 0.5001 - accuracy: 0.5500\n",
      "Epoch 13/100\n",
      "24/24 [==============================] - 0s 957us/step - loss: 0.5010 - accuracy: 0.5949\n",
      "Epoch 14/100\n",
      "24/24 [==============================] - 0s 957us/step - loss: 0.4823 - accuracy: 0.6427\n",
      "Epoch 15/100\n",
      "24/24 [==============================] - 0s 913us/step - loss: 0.4871 - accuracy: 0.6778\n",
      "Epoch 16/100\n",
      "24/24 [==============================] - 0s 870us/step - loss: 0.4590 - accuracy: 0.7751\n",
      "Epoch 17/100\n",
      "24/24 [==============================] - 0s 826us/step - loss: 0.4876 - accuracy: 0.8443\n",
      "Epoch 18/100\n",
      "24/24 [==============================] - 0s 956us/step - loss: 0.4434 - accuracy: 0.8753\n",
      "Epoch 19/100\n",
      "24/24 [==============================] - 0s 956us/step - loss: 0.4421 - accuracy: 0.8753\n",
      "Epoch 20/100\n",
      "24/24 [==============================] - 0s 1ms/step - loss: 0.4524 - accuracy: 0.8745\n",
      "Epoch 21/100\n",
      "24/24 [==============================] - 0s 826us/step - loss: 0.4361 - accuracy: 0.8796\n",
      "Epoch 22/100\n",
      "24/24 [==============================] - 0s 1ms/step - loss: 0.4422 - accuracy: 0.8673\n",
      "Epoch 23/100\n",
      "24/24 [==============================] - 0s 826us/step - loss: 0.4223 - accuracy: 0.8620\n",
      "Epoch 24/100\n",
      "24/24 [==============================] - 0s 783us/step - loss: 0.4076 - accuracy: 0.8776\n",
      "Epoch 25/100\n",
      "24/24 [==============================] - 0s 913us/step - loss: 0.4189 - accuracy: 0.8759\n",
      "Epoch 26/100\n",
      "24/24 [==============================] - 0s 870us/step - loss: 0.3698 - accuracy: 0.9042\n",
      "Epoch 27/100\n",
      "24/24 [==============================] - 0s 826us/step - loss: 0.3782 - accuracy: 0.8812\n",
      "Epoch 28/100\n",
      "24/24 [==============================] - 0s 783us/step - loss: 0.4081 - accuracy: 0.8677\n",
      "Epoch 29/100\n",
      "24/24 [==============================] - 0s 870us/step - loss: 0.3756 - accuracy: 0.8873\n",
      "Epoch 30/100\n",
      "24/24 [==============================] - 0s 870us/step - loss: 0.3719 - accuracy: 0.8693\n",
      "Epoch 31/100\n",
      "24/24 [==============================] - 0s 913us/step - loss: 0.3510 - accuracy: 0.8875\n",
      "Epoch 32/100\n",
      "24/24 [==============================] - 0s 826us/step - loss: 0.3250 - accuracy: 0.8829\n",
      "Epoch 33/100\n",
      "24/24 [==============================] - 0s 913us/step - loss: 0.3278 - accuracy: 0.8805\n",
      "Epoch 34/100\n",
      "24/24 [==============================] - 0s 824us/step - loss: 0.3116 - accuracy: 0.8791\n",
      "Epoch 35/100\n",
      "24/24 [==============================] - 0s 870us/step - loss: 0.3045 - accuracy: 0.8902\n",
      "Epoch 36/100\n",
      "24/24 [==============================] - 0s 1ms/step - loss: 0.2948 - accuracy: 0.8867\n",
      "Epoch 37/100\n",
      "24/24 [==============================] - 0s 1ms/step - loss: 0.2835 - accuracy: 0.8803\n",
      "Epoch 38/100\n",
      "24/24 [==============================] - 0s 913us/step - loss: 0.2665 - accuracy: 0.8931\n",
      "Epoch 39/100\n",
      "24/24 [==============================] - 0s 783us/step - loss: 0.2726 - accuracy: 0.8794\n",
      "Epoch 40/100\n",
      "24/24 [==============================] - 0s 1ms/step - loss: 0.2699 - accuracy: 0.8840\n",
      "Epoch 41/100\n",
      "24/24 [==============================] - 0s 869us/step - loss: 0.2665 - accuracy: 0.8875\n",
      "Epoch 42/100\n",
      "24/24 [==============================] - 0s 913us/step - loss: 0.2679 - accuracy: 0.8813\n",
      "Epoch 43/100\n",
      "24/24 [==============================] - 0s 1000us/step - loss: 0.2622 - accuracy: 0.8983\n",
      "Epoch 44/100\n",
      "24/24 [==============================] - 0s 870us/step - loss: 0.2536 - accuracy: 0.8907\n",
      "Epoch 45/100\n",
      "24/24 [==============================] - 0s 739us/step - loss: 0.2727 - accuracy: 0.8788\n",
      "Epoch 46/100\n",
      "24/24 [==============================] - 0s 826us/step - loss: 0.2622 - accuracy: 0.8834\n",
      "Epoch 47/100\n",
      "24/24 [==============================] - 0s 739us/step - loss: 0.2365 - accuracy: 0.8977\n",
      "Epoch 48/100\n",
      "24/24 [==============================] - 0s 1ms/step - loss: 0.2757 - accuracy: 0.8635\n",
      "Epoch 49/100\n",
      "24/24 [==============================] - 0s 1ms/step - loss: 0.2369 - accuracy: 0.9046\n",
      "Epoch 50/100\n",
      "24/24 [==============================] - 0s 1ms/step - loss: 0.2442 - accuracy: 0.8899\n",
      "Epoch 51/100\n",
      "24/24 [==============================] - 0s 913us/step - loss: 0.2380 - accuracy: 0.8942\n",
      "Epoch 52/100\n",
      "24/24 [==============================] - 0s 870us/step - loss: 0.2254 - accuracy: 0.8982\n",
      "Epoch 53/100\n",
      "24/24 [==============================] - 0s 1ms/step - loss: 0.2322 - accuracy: 0.8980\n",
      "Epoch 54/100\n",
      "24/24 [==============================] - 0s 957us/step - loss: 0.2233 - accuracy: 0.9064\n",
      "Epoch 55/100\n",
      "24/24 [==============================] - 0s 870us/step - loss: 0.2040 - accuracy: 0.9180\n",
      "Epoch 56/100\n",
      "24/24 [==============================] - 0s 826us/step - loss: 0.2437 - accuracy: 0.8896\n",
      "Epoch 57/100\n",
      "24/24 [==============================] - 0s 2ms/step - loss: 0.2353 - accuracy: 0.8917\n",
      "Epoch 58/100\n",
      "24/24 [==============================] - 0s 1ms/step - loss: 0.2171 - accuracy: 0.9161\n",
      "Epoch 59/100\n",
      "24/24 [==============================] - 0s 913us/step - loss: 0.2225 - accuracy: 0.9125\n",
      "Epoch 60/100\n",
      "24/24 [==============================] - 0s 913us/step - loss: 0.2296 - accuracy: 0.9050\n",
      "Epoch 61/100\n",
      "24/24 [==============================] - 0s 783us/step - loss: 0.2387 - accuracy: 0.8910\n",
      "Epoch 62/100\n",
      "24/24 [==============================] - 0s 826us/step - loss: 0.2330 - accuracy: 0.9014\n",
      "Epoch 63/100\n",
      "24/24 [==============================] - 0s 783us/step - loss: 0.2231 - accuracy: 0.9147\n",
      "Epoch 64/100\n",
      "24/24 [==============================] - 0s 913us/step - loss: 0.2152 - accuracy: 0.9064\n",
      "Epoch 65/100\n",
      "24/24 [==============================] - 0s 870us/step - loss: 0.2249 - accuracy: 0.8972\n",
      "Epoch 66/100\n",
      "24/24 [==============================] - 0s 913us/step - loss: 0.2167 - accuracy: 0.9016\n",
      "Epoch 67/100\n",
      "24/24 [==============================] - 0s 1ms/step - loss: 0.2407 - accuracy: 0.8822\n",
      "Epoch 68/100\n",
      "24/24 [==============================] - 0s 1ms/step - loss: 0.1957 - accuracy: 0.9125\n",
      "Epoch 69/100\n",
      "24/24 [==============================] - 0s 1ms/step - loss: 0.2226 - accuracy: 0.8987\n",
      "Epoch 70/100\n",
      "24/24 [==============================] - 0s 1ms/step - loss: 0.2255 - accuracy: 0.8980\n",
      "Epoch 71/100\n",
      "24/24 [==============================] - 0s 826us/step - loss: 0.1828 - accuracy: 0.9223\n",
      "Epoch 72/100\n",
      "24/24 [==============================] - 0s 1ms/step - loss: 0.2223 - accuracy: 0.9033\n",
      "Epoch 73/100\n",
      "24/24 [==============================] - 0s 1ms/step - loss: 0.2164 - accuracy: 0.9061\n",
      "Epoch 74/100\n",
      "24/24 [==============================] - 0s 1ms/step - loss: 0.2063 - accuracy: 0.9058\n",
      "Epoch 75/100\n",
      "24/24 [==============================] - 0s 1ms/step - loss: 0.2149 - accuracy: 0.9036\n",
      "Epoch 76/100\n",
      "24/24 [==============================] - 0s 956us/step - loss: 0.2004 - accuracy: 0.9154\n",
      "Epoch 77/100\n",
      "24/24 [==============================] - 0s 956us/step - loss: 0.2163 - accuracy: 0.9012\n",
      "Epoch 78/100\n",
      "24/24 [==============================] - 0s 956us/step - loss: 0.1882 - accuracy: 0.9159\n",
      "Epoch 79/100\n",
      "24/24 [==============================] - 0s 1ms/step - loss: 0.2071 - accuracy: 0.9062\n",
      "Epoch 80/100\n",
      "24/24 [==============================] - 0s 869us/step - loss: 0.2067 - accuracy: 0.9025\n",
      "Epoch 81/100\n",
      "24/24 [==============================] - 0s 826us/step - loss: 0.2186 - accuracy: 0.8989\n",
      "Epoch 82/100\n",
      "24/24 [==============================] - 0s 913us/step - loss: 0.1797 - accuracy: 0.9238\n",
      "Epoch 83/100\n",
      "24/24 [==============================] - 0s 913us/step - loss: 0.2106 - accuracy: 0.9041\n",
      "Epoch 84/100\n",
      "24/24 [==============================] - 0s 826us/step - loss: 0.2129 - accuracy: 0.9032\n",
      "Epoch 85/100\n",
      "24/24 [==============================] - 0s 826us/step - loss: 0.2103 - accuracy: 0.9031\n",
      "Epoch 86/100\n",
      "24/24 [==============================] - 0s 869us/step - loss: 0.2044 - accuracy: 0.9010\n",
      "Epoch 87/100\n",
      "24/24 [==============================] - ETA: 0s - loss: 0.1838 - accuracy: 0.87 - 0s 826us/step - loss: 0.2096 - accuracy: 0.8948\n",
      "Epoch 88/100\n",
      "24/24 [==============================] - 0s 913us/step - loss: 0.2364 - accuracy: 0.8872\n",
      "Epoch 89/100\n",
      "24/24 [==============================] - 0s 957us/step - loss: 0.2143 - accuracy: 0.9022\n",
      "Epoch 90/100\n",
      "24/24 [==============================] - 0s 826us/step - loss: 0.2120 - accuracy: 0.9043\n",
      "Epoch 91/100\n",
      "24/24 [==============================] - 0s 957us/step - loss: 0.1917 - accuracy: 0.9213\n",
      "Epoch 92/100\n",
      "24/24 [==============================] - 0s 1000us/step - loss: 0.2237 - accuracy: 0.8993\n",
      "Epoch 93/100\n",
      "24/24 [==============================] - 0s 783us/step - loss: 0.2036 - accuracy: 0.9072\n",
      "Epoch 94/100\n",
      "24/24 [==============================] - 0s 913us/step - loss: 0.1947 - accuracy: 0.9120\n",
      "Epoch 95/100\n",
      "24/24 [==============================] - 0s 957us/step - loss: 0.1789 - accuracy: 0.9269\n",
      "Epoch 96/100\n",
      "24/24 [==============================] - 0s 913us/step - loss: 0.2176 - accuracy: 0.8990\n",
      "Epoch 97/100\n",
      "24/24 [==============================] - 0s 958us/step - loss: 0.2185 - accuracy: 0.8956\n",
      "Epoch 98/100\n",
      "24/24 [==============================] - 0s 956us/step - loss: 0.1992 - accuracy: 0.9091\n",
      "Epoch 99/100\n",
      "24/24 [==============================] - 0s 870us/step - loss: 0.1847 - accuracy: 0.9199\n",
      "Epoch 100/100\n",
      "24/24 [==============================] - 0s 1ms/step - loss: 0.2034 - accuracy: 0.9121\n"
     ]
    }
   ],
   "source": [
    "# Compile the Sequential model together and customize metrics\n",
    "new_model.compile(loss=\"binary_crossentropy\", optimizer=\"adam\", metrics=[\"accuracy\"])\n",
    "\n",
    "# Fit the model to the training data\n",
    "new_fit_model = new_model.fit(X_moon_train_scaled, y_moon_train, epochs=100, shuffle=True)"
   ]
  },
  {
   "cell_type": "code",
   "execution_count": 30,
   "id": "spectacular-pledge",
   "metadata": {},
   "outputs": [
    {
     "data": {
      "text/html": [
       "<div>\n",
       "<style scoped>\n",
       "    .dataframe tbody tr th:only-of-type {\n",
       "        vertical-align: middle;\n",
       "    }\n",
       "\n",
       "    .dataframe tbody tr th {\n",
       "        vertical-align: top;\n",
       "    }\n",
       "\n",
       "    .dataframe thead th {\n",
       "        text-align: right;\n",
       "    }\n",
       "</style>\n",
       "<table border=\"1\" class=\"dataframe\">\n",
       "  <thead>\n",
       "    <tr style=\"text-align: right;\">\n",
       "      <th></th>\n",
       "      <th>Feature 1</th>\n",
       "      <th>Feature 2</th>\n",
       "      <th>Target</th>\n",
       "    </tr>\n",
       "  </thead>\n",
       "  <tbody>\n",
       "    <tr>\n",
       "      <th>count</th>\n",
       "      <td>1000.000000</td>\n",
       "      <td>1000.000000</td>\n",
       "      <td>1000.00000</td>\n",
       "    </tr>\n",
       "    <tr>\n",
       "      <th>mean</th>\n",
       "      <td>0.498805</td>\n",
       "      <td>0.247856</td>\n",
       "      <td>0.50000</td>\n",
       "    </tr>\n",
       "    <tr>\n",
       "      <th>std</th>\n",
       "      <td>0.870305</td>\n",
       "      <td>0.499844</td>\n",
       "      <td>0.50025</td>\n",
       "    </tr>\n",
       "    <tr>\n",
       "      <th>min</th>\n",
       "      <td>-1.174206</td>\n",
       "      <td>-0.694653</td>\n",
       "      <td>0.00000</td>\n",
       "    </tr>\n",
       "    <tr>\n",
       "      <th>25%</th>\n",
       "      <td>-0.050691</td>\n",
       "      <td>-0.217649</td>\n",
       "      <td>0.00000</td>\n",
       "    </tr>\n",
       "    <tr>\n",
       "      <th>50%</th>\n",
       "      <td>0.534336</td>\n",
       "      <td>0.235087</td>\n",
       "      <td>0.50000</td>\n",
       "    </tr>\n",
       "    <tr>\n",
       "      <th>75%</th>\n",
       "      <td>1.052125</td>\n",
       "      <td>0.707188</td>\n",
       "      <td>1.00000</td>\n",
       "    </tr>\n",
       "    <tr>\n",
       "      <th>max</th>\n",
       "      <td>2.211626</td>\n",
       "      <td>1.159381</td>\n",
       "      <td>1.00000</td>\n",
       "    </tr>\n",
       "  </tbody>\n",
       "</table>\n",
       "</div>"
      ],
      "text/plain": [
       "         Feature 1    Feature 2      Target\n",
       "count  1000.000000  1000.000000  1000.00000\n",
       "mean      0.498805     0.247856     0.50000\n",
       "std       0.870305     0.499844     0.50025\n",
       "min      -1.174206    -0.694653     0.00000\n",
       "25%      -0.050691    -0.217649     0.00000\n",
       "50%       0.534336     0.235087     0.50000\n",
       "75%       1.052125     0.707188     1.00000\n",
       "max       2.211626     1.159381     1.00000"
      ]
     },
     "execution_count": 30,
     "metadata": {},
     "output_type": "execute_result"
    }
   ],
   "source": [
    "# Outlier Identification\n",
    "df_moons.describe()"
   ]
  },
  {
   "cell_type": "code",
   "execution_count": 28,
   "id": "broadband-karen",
   "metadata": {},
   "outputs": [
    {
     "data": {
      "image/png": "[encoded data removed]",
      "text/plain": [
       "<Figure size 432x288 with 1 Axes>"
      ]
     },
     "metadata": {
      "needs_background": "light"
     },
     "output_type": "display_data"
    }
   ],
   "source": [
    "# Plotting a variable using Pandas' Series.plot method to look for outliers\n",
    "plt.boxplot(df_moons[\"Feature 1\"])\n",
    "plt.show()"
   ]
  },
  {
   "cell_type": "code",
   "execution_count": 31,
   "id": "maritime-wright",
   "metadata": {},
   "outputs": [
    {
     "data": {
      "image/png": "[encoded data removed]",
      "text/plain": [
       "<Figure size 432x288 with 1 Axes>"
      ]
     },
     "metadata": {
      "needs_background": "light"
     },
     "output_type": "display_data"
    }
   ],
   "source": [
    "# Plotting a variable using Pandas' Series.plot method to look for outliers\n",
    "plt.boxplot(df_moons[\"Feature 2\"])\n",
    "plt.show()"
   ]
  },
  {
   "cell_type": "markdown",
   "id": "middle-cherry",
   "metadata": {},
   "source": [
    "For a neural network to understand and evaluate a categorical variable, we must preprocess the values using a technique called one-hot encoding.\n",
    "\n",
    "The process of reducing the number of unique categorical values in a dataset is known as bucketing or binning. Bucketing data typically follows one of two approaches:\n",
    "\n",
    "- Collapse all of the infrequent and rare categorical values into a single \"other\" category.\n",
    "- Create generalized categorical values and reassign all data points to the new corresponding values."
   ]
  },
  {
   "cell_type": "code",
   "execution_count": null,
   "id": "curious-spelling",
   "metadata": {},
   "outputs": [],
   "source": []
  }
 ],
 "metadata": {
  "kernelspec": {
   "display_name": "Python 3",
   "language": "python",
   "name": "python3"
  },
  "language_info": {
   "codemirror_mode": {
    "name": "ipython",
    "version": 3
   },
   "file_extension": ".py",
   "mimetype": "text/x-python",
   "name": "python",
   "nbconvert_exporter": "python",
   "pygments_lexer": "ipython3",
   "version": "3.7.9"
  }
 },
 "nbformat": 4,
 "nbformat_minor": 5
}
